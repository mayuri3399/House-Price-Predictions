{
 "cells": [
  {
   "cell_type": "markdown",
   "id": "346a2da5",
   "metadata": {},
   "source": [
    "# GRIP : The Sparks Foundation"
   ]
  },
  {
   "cell_type": "markdown",
   "id": "29312eb4",
   "metadata": {},
   "source": [
    "# Data Science and Business Analytics intern"
   ]
  },
  {
   "cell_type": "markdown",
   "id": "a54e6c44",
   "metadata": {},
   "source": [
    "# TASK2: Prediction using Unsupervised Machine Learning"
   ]
  },
  {
   "cell_type": "markdown",
   "id": "d9ed595f",
   "metadata": {},
   "source": [
    "        From the given ‘Iris’ dataset, predict the optimum number of clusters\n",
    "        and represent it visually."
   ]
  },
  {
   "cell_type": "markdown",
   "id": "20e01db7",
   "metadata": {},
   "source": [
    "# Name:Mayuri  Sonawane"
   ]
  },
  {
   "cell_type": "markdown",
   "id": "5389f70a",
   "metadata": {},
   "source": [
    "# Importing all libraries required in this notebook"
   ]
  },
  {
   "cell_type": "code",
   "execution_count": 52,
   "id": "813b23ed",
   "metadata": {},
   "outputs": [],
   "source": [
    "import pandas as pd\n",
    "import numpy as np  \n",
    "import matplotlib.pyplot as plt  \n",
    "%matplotlib inline\n",
    "from sklearn.datasets import load_iris"
   ]
  },
  {
   "cell_type": "markdown",
   "id": "4a4f978a",
   "metadata": {},
   "source": [
    "# importing data "
   ]
  },
  {
   "cell_type": "code",
   "execution_count": 53,
   "id": "7b25fbea",
   "metadata": {},
   "outputs": [
    {
     "name": "stdout",
     "output_type": "stream",
     "text": [
      "Data imported Succesfully\n"
     ]
    },
    {
     "data": {
      "text/html": [
       "<div>\n",
       "<style scoped>\n",
       "    .dataframe tbody tr th:only-of-type {\n",
       "        vertical-align: middle;\n",
       "    }\n",
       "\n",
       "    .dataframe tbody tr th {\n",
       "        vertical-align: top;\n",
       "    }\n",
       "\n",
       "    .dataframe thead th {\n",
       "        text-align: right;\n",
       "    }\n",
       "</style>\n",
       "<table border=\"1\" class=\"dataframe\">\n",
       "  <thead>\n",
       "    <tr style=\"text-align: right;\">\n",
       "      <th></th>\n",
       "      <th>sepal length (cm)</th>\n",
       "      <th>sepal width (cm)</th>\n",
       "      <th>petal length (cm)</th>\n",
       "      <th>petal width (cm)</th>\n",
       "      <th>species</th>\n",
       "    </tr>\n",
       "  </thead>\n",
       "  <tbody>\n",
       "    <tr>\n",
       "      <th>0</th>\n",
       "      <td>5.1</td>\n",
       "      <td>3.5</td>\n",
       "      <td>1.4</td>\n",
       "      <td>0.2</td>\n",
       "      <td>0.0</td>\n",
       "    </tr>\n",
       "    <tr>\n",
       "      <th>1</th>\n",
       "      <td>4.9</td>\n",
       "      <td>3.0</td>\n",
       "      <td>1.4</td>\n",
       "      <td>0.2</td>\n",
       "      <td>0.0</td>\n",
       "    </tr>\n",
       "    <tr>\n",
       "      <th>2</th>\n",
       "      <td>4.7</td>\n",
       "      <td>3.2</td>\n",
       "      <td>1.3</td>\n",
       "      <td>0.2</td>\n",
       "      <td>0.0</td>\n",
       "    </tr>\n",
       "    <tr>\n",
       "      <th>3</th>\n",
       "      <td>4.6</td>\n",
       "      <td>3.1</td>\n",
       "      <td>1.5</td>\n",
       "      <td>0.2</td>\n",
       "      <td>0.0</td>\n",
       "    </tr>\n",
       "    <tr>\n",
       "      <th>4</th>\n",
       "      <td>5.0</td>\n",
       "      <td>3.6</td>\n",
       "      <td>1.4</td>\n",
       "      <td>0.2</td>\n",
       "      <td>0.0</td>\n",
       "    </tr>\n",
       "  </tbody>\n",
       "</table>\n",
       "</div>"
      ],
      "text/plain": [
       "   sepal length (cm)  sepal width (cm)  petal length (cm)  petal width (cm)  \\\n",
       "0                5.1               3.5                1.4               0.2   \n",
       "1                4.9               3.0                1.4               0.2   \n",
       "2                4.7               3.2                1.3               0.2   \n",
       "3                4.6               3.1                1.5               0.2   \n",
       "4                5.0               3.6                1.4               0.2   \n",
       "\n",
       "   species  \n",
       "0      0.0  \n",
       "1      0.0  \n",
       "2      0.0  \n",
       "3      0.0  \n",
       "4      0.0  "
      ]
     },
     "execution_count": 53,
     "metadata": {},
     "output_type": "execute_result"
    }
   ],
   "source": [
    "df1 = load_iris()\n",
    "df= pd.DataFrame(data = np.c_[df1['data'],df1['target']],columns= df1['feature_names']+['species'])\n",
    "print('Data imported Succesfully')\n",
    "df.head()"
   ]
  },
  {
   "cell_type": "code",
   "execution_count": 67,
   "id": "80e828d7",
   "metadata": {},
   "outputs": [
    {
     "data": {
      "text/plain": [
       "(150, 6)"
      ]
     },
     "execution_count": 67,
     "metadata": {},
     "output_type": "execute_result"
    }
   ],
   "source": [
    "df.shape "
   ]
  },
  {
   "cell_type": "code",
   "execution_count": 65,
   "id": "66c79a61",
   "metadata": {},
   "outputs": [
    {
     "data": {
      "text/plain": [
       "0.0    50\n",
       "1.0    50\n",
       "2.0    50\n",
       "Name: species, dtype: int64"
      ]
     },
     "execution_count": 65,
     "metadata": {},
     "output_type": "execute_result"
    }
   ],
   "source": [
    "df['species'].value_counts()"
   ]
  },
  {
   "cell_type": "code",
   "execution_count": 71,
   "id": "a6b011e3",
   "metadata": {},
   "outputs": [
    {
     "data": {
      "text/plain": [
       "sepal length (cm)    0\n",
       "sepal width (cm)     0\n",
       "petal length (cm)    0\n",
       "petal width (cm)     0\n",
       "species              0\n",
       "pred_species         0\n",
       "dtype: int64"
      ]
     },
     "execution_count": 71,
     "metadata": {},
     "output_type": "execute_result"
    }
   ],
   "source": [
    "df.isna().sum() # NO null values in data"
   ]
  },
  {
   "cell_type": "markdown",
   "id": "f9858bda",
   "metadata": {},
   "source": [
    "# Finding the optimum number of clusters for K using elbow method"
   ]
  },
  {
   "cell_type": "code",
   "execution_count": 73,
   "id": "d429c4bb",
   "metadata": {},
   "outputs": [
    {
     "name": "stderr",
     "output_type": "stream",
     "text": [
      "C:\\Users\\mayur\\anaconda3\\lib\\site-packages\\sklearn\\cluster\\_kmeans.py:1036: UserWarning: KMeans is known to have a memory leak on Windows with MKL, when there are less chunks than available threads. You can avoid it by setting the environment variable OMP_NUM_THREADS=1.\n",
      "  warnings.warn(\n"
     ]
    }
   ],
   "source": [
    "from sklearn.cluster  import KMeans\n",
    "from scipy.spatial.distance import cdist , pdist\n",
    "x= df.iloc[:,:3].values\n",
    "K = range(1,10)\n",
    "Km= [KMeans(n_clusters = k).fit(x) for k in K]\n",
    "cent = [k.cluster_centers_ for  k in Km]\n",
    "D_k = [cdist(x,cent , 'euclidean') for cent in cent]\n",
    "cIdx = [np.argmin(D, axis= 1) for D in D_k]\n",
    "dist = [np.min(D, axis=1)for D in D_k]\n",
    "awgwithinss = [sum(d)/x.shape[0] for d in dist]\n"
   ]
  },
  {
   "cell_type": "code",
   "execution_count": 56,
   "id": "27d44592",
   "metadata": {},
   "outputs": [],
   "source": [
    "# Total within  sum of suqare (wcss)\n",
    "sos = [sum(d**2)for d in dist] # sum of squares\n",
    "tss = sum (pdist(x)**2/x.shape[0]) # total sum of squares\n",
    "bss = sos-tss \n",
    "varexplained = bss/tss*100"
   ]
  },
  {
   "cell_type": "code",
   "execution_count": 57,
   "id": "57f6cd71",
   "metadata": {},
   "outputs": [
    {
     "data": {
      "text/plain": [
       "Text(0.5, 1.0, ' ELBOW FOR K-MEANS CLUSTERING')"
      ]
     },
     "execution_count": 57,
     "metadata": {},
     "output_type": "execute_result"
    },
    {
     "data": {
      "image/png": "[encoded data removed]",
      "text/plain": [
       "<Figure size 1080x432 with 1 Axes>"
      ]
     },
     "metadata": {
      "needs_background": "light"
     },
     "output_type": "display_data"
    }
   ],
   "source": [
    "kIdx= 10-1\n",
    "### plotiing###\n",
    "kIdx = 2\n",
    "#elbow curve\n",
    "#Set the size of the plot\n",
    "plt.figure(figsize=(15,6))\n",
    "plt.subplot(1,2,1)\n",
    "plt.plot(K, awgwithinss,'b*-')\n",
    "plt.plot (K[kIdx], awgwithinss[kIdx], marker = 'o', markersize= 12, \n",
    "markeredgewidth = 2 ,markeredgecolor ='r', markerfacecolor='None' )\n",
    "plt.grid(True)\n",
    "plt.xlabel(\"Number of clusters\")\n",
    "plt.ylabel(\"Average within  - cluster sum of  squares\")\n",
    "plt.title(' ELBOW FOR K-MEANS CLUSTERING')"
   ]
  },
  {
   "cell_type": "markdown",
   "id": "bd2d176d",
   "metadata": {},
   "source": [
    "#   From above graph we can see  that the  point k=3 has low SSC. SO the value representing the Elbow in the graph is number of clusters"
   ]
  },
  {
   "cell_type": "markdown",
   "id": "51e82a1b",
   "metadata": {},
   "source": [
    "# "
   ]
  },
  {
   "cell_type": "markdown",
   "id": "7b8193ee",
   "metadata": {},
   "source": [
    "#    K Means Cluster Data Visualization"
   ]
  },
  {
   "cell_type": "code",
   "execution_count": 64,
   "id": "cb387d8b",
   "metadata": {},
   "outputs": [
    {
     "name": "stdout",
     "output_type": "stream",
     "text": [
      "[1 1 1 1 1 1 1 1 1 1 1 1 1 1 1 1 1 1 1 1 1 1 1 1 1 1 1 1 1 1 1 1 1 1 1 1 1\n",
      " 1 1 1 1 1 1 1 1 1 1 1 1 1 2 0 2 0 0 0 0 0 0 0 0 0 0 0 0 0 0 0 0 0 0 0 0 0\n",
      " 0 0 2 2 0 0 0 0 0 0 0 0 2 0 0 0 0 0 0 0 0 0 0 0 0 0 2 0 2 2 2 2 0 2 2 2 2\n",
      " 2 2 0 0 2 2 2 2 0 2 0 2 0 2 2 0 0 2 2 2 2 2 2 2 2 2 2 0 2 2 2 0 2 2 2 0 2\n",
      " 2 0]\n"
     ]
    }
   ],
   "source": [
    "model =  KMeans(n_clusters=3, random_state=11)\n",
    "model.fit(x)\n",
    "print(model.labels_)"
   ]
  },
  {
   "cell_type": "markdown",
   "id": "7c777c87",
   "metadata": {},
   "source": [
    "    we can see clustering algorithm has assigned a\n",
    "     cluster label for each record. Lets  compare it with the \n",
    "      actual species to understand the accuracy of grouping similar records."
   ]
  },
  {
   "cell_type": "code",
   "execution_count": 60,
   "id": "6b102577",
   "metadata": {},
   "outputs": [
    {
     "name": "stdout",
     "output_type": "stream",
     "text": [
      "Accuracy is : 0.88\n"
     ]
    }
   ],
   "source": [
    "from sklearn import metrics\n",
    "df['pred_species']= np.choose(model.labels_,[1,0,2]).astype(np.int64)\n",
    "print(\"Accuracy is :\", metrics.accuracy_score(df.species,df.pred_species))"
   ]
  },
  {
   "cell_type": "markdown",
   "id": "8ee3a176",
   "metadata": {},
   "source": [
    "     Applying K means to dataset i.e creating classifier"
   ]
  },
  {
   "cell_type": "code",
   "execution_count": 63,
   "id": "fd767a6b",
   "metadata": {},
   "outputs": [],
   "source": [
    "kmeans = KMeans(n_clusters  = 3 , init = \"k-means++\",\n",
    "              max_iter = 300 , n_init = 10 , random_state = 0)\n",
    "y_kmeans = kmeans.fit_predict(x)"
   ]
  },
  {
   "cell_type": "markdown",
   "id": "9f9a09a4",
   "metadata": {},
   "source": [
    "      visulization of clusters  on the 1st two columns"
   ]
  },
  {
   "cell_type": "code",
   "execution_count": 72,
   "id": "bdcbb1f9",
   "metadata": {},
   "outputs": [
    {
     "data": {
      "text/plain": [
       "<matplotlib.legend.Legend at 0x1c57889dfd0>"
      ]
     },
     "execution_count": 72,
     "metadata": {},
     "output_type": "execute_result"
    },
    {
     "data": {
      "image/png": "[encoded data removed]",
      "text/plain": [
       "<Figure size 432x288 with 1 Axes>"
      ]
     },
     "metadata": {
      "needs_background": "light"
     },
     "output_type": "display_data"
    }
   ],
   "source": [
    "plt.scatter(x[y_kmeans == 0 ,0], x[y_kmeans==0,1], \n",
    "           s= 100 , c= 'red' , label = ' Iris_setosa')\n",
    "plt.scatter(x[y_kmeans == 1 ,0], x[y_kmeans==1,1], \n",
    "           s= 100 , c= 'blue' , label = ' Iris_versicolour')\n",
    "plt.scatter(x[y_kmeans == 2 ,0], x[y_kmeans==2,1], \n",
    "           s= 100 , c= 'green' , label = ' Iris_virginica')\n",
    "\n",
    "\n",
    "# Plotting the centroids the clusters \n",
    "plt.scatter(kmeans.cluster_centers_[:,0], kmeans.cluster_centers_[:,1], \n",
    "           s= 100 , c= 'yellow' , label = 'Centroids')\n",
    " \n",
    "plt.legend()"
   ]
  },
  {
   "cell_type": "code",
   "execution_count": null,
   "id": "0a9f94e2",
   "metadata": {},
   "outputs": [],
   "source": []
  },
  {
   "cell_type": "code",
   "execution_count": null,
   "id": "de685546",
   "metadata": {},
   "outputs": [],
   "source": []
  }
 ],
 "metadata": {
  "kernelspec": {
   "display_name": "Python 3 (ipykernel)",
   "language": "python",
   "name": "python3"
  },
  "language_info": {
   "codemirror_mode": {
    "name": "ipython",
    "version": 3
   },
   "file_extension": ".py",
   "mimetype": "text/x-python",
   "name": "python",
   "nbconvert_exporter": "python",
   "pygments_lexer": "ipython3",
   "version": "3.9.12"
  }
 },
 "nbformat": 4,
 "nbformat_minor": 5
}
